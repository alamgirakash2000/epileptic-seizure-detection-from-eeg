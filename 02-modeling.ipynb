{
 "cells": [
  {
   "cell_type": "markdown",
   "id": "df9e4f12",
   "metadata": {},
   "source": [
    "# Creating the Model"
   ]
  },
  {
   "cell_type": "markdown",
   "id": "c0af8e4d",
   "metadata": {},
   "source": [
    "## Importing Libraries"
   ]
  },
  {
   "cell_type": "code",
   "execution_count": 88,
   "id": "17e70d0b",
   "metadata": {},
   "outputs": [],
   "source": [
    "import numpy as np\n",
    "import pandas as pd\n",
    "import matplotlib\n",
    "import matplotlib.pyplot as plt\n",
    "import seaborn as sns\n",
    "from sklearn.metrics import confusion_matrix, accuracy_score\n",
    "from sklearn.preprocessing import MinMaxScaler\n",
    "\n",
    "import warnings\n",
    "warnings.filterwarnings(\"ignore\")\n",
    "\n",
    "# For better visualization\n",
    "sns.set_style('darkgrid')\n",
    "matplotlib.rcParams['font.size'] = 14\n",
    "matplotlib.rcParams['figure.figsize'] = (10, 6)\n",
    "matplotlib.rcParams['figure.facecolor'] = '#00000000'"
   ]
  },
  {
   "cell_type": "markdown",
   "id": "2a766c70",
   "metadata": {},
   "source": [
    "## Loading and Prepocessing the Dataset"
   ]
  },
  {
   "cell_type": "code",
   "execution_count": 2,
   "id": "cafe8042",
   "metadata": {},
   "outputs": [
    {
     "data": {
      "text/plain": [
       "(11500, 179)"
      ]
     },
     "execution_count": 2,
     "metadata": {},
     "output_type": "execute_result"
    }
   ],
   "source": [
    "df =  pd.read_csv('mergedFiles/allFilesMerged.csv')\n",
    "df.shape"
   ]
  },
  {
   "cell_type": "markdown",
   "id": "4139644b",
   "metadata": {},
   "source": [
    "### Selecting target\n",
    "\n",
    "From the `y` column, we will consider value `1` as `seizure class` and other values as `non-seizure class`. For this we convert values other than `1` as `0`."
   ]
  },
  {
   "cell_type": "code",
   "execution_count": 8,
   "id": "610baeb9",
   "metadata": {},
   "outputs": [
    {
     "data": {
      "text/plain": [
       "0    9200\n",
       "1    2300\n",
       "Name: y, dtype: int64"
      ]
     },
     "execution_count": 8,
     "metadata": {},
     "output_type": "execute_result"
    }
   ],
   "source": [
    "df[\"y\"].replace([2,3,4,5],[0,0,0,0],inplace=True)\n",
    "df['y'].value_counts()"
   ]
  },
  {
   "cell_type": "markdown",
   "id": "32bba60b",
   "metadata": {},
   "source": [
    "### Selecting input and target columns"
   ]
  },
  {
   "cell_type": "code",
   "execution_count": 32,
   "id": "d3adbed6",
   "metadata": {},
   "outputs": [],
   "source": [
    "input_cols = df.columns[0:178]\n",
    "target_col = df.columns[-1]"
   ]
  },
  {
   "cell_type": "markdown",
   "id": "4deb4290",
   "metadata": {},
   "source": [
    "### Splitting Dataset into train, validation,test sets"
   ]
  },
  {
   "cell_type": "code",
   "execution_count": 78,
   "id": "fdbdfa75",
   "metadata": {},
   "outputs": [
    {
     "data": {
      "text/plain": [
       "(7820, 1725, 1955)"
      ]
     },
     "execution_count": 78,
     "metadata": {},
     "output_type": "execute_result"
    }
   ],
   "source": [
    "from sklearn.model_selection import train_test_split\n",
    "X_train,X_val,y_train,y_val = train_test_split(df[input_cols],df[target_cols],test_size = 0.15, random_state=42)\n",
    "X_train,X_test,y_train,y_test = train_test_split(X_train,y_train,test_size = 0.2, random_state=42)\n",
    "\n",
    "# Checking size\n",
    "len(y_train),len(y_val), len(y_test)"
   ]
  },
  {
   "cell_type": "markdown",
   "id": "0a7fac05",
   "metadata": {},
   "source": [
    "According to the size if the model predict all as `non-seizure` class, still it will have `79.76%` accuracy at validation set and `79.64%`"
   ]
  },
  {
   "cell_type": "markdown",
   "id": "a86e6138",
   "metadata": {},
   "source": [
    "### Normalizing datasets"
   ]
  },
  {
   "cell_type": "code",
   "execution_count": 79,
   "id": "5c237e70",
   "metadata": {},
   "outputs": [
    {
     "data": {
      "text/html": [
       "<div>\n",
       "<style scoped>\n",
       "    .dataframe tbody tr th:only-of-type {\n",
       "        vertical-align: middle;\n",
       "    }\n",
       "\n",
       "    .dataframe tbody tr th {\n",
       "        vertical-align: top;\n",
       "    }\n",
       "\n",
       "    .dataframe thead th {\n",
       "        text-align: right;\n",
       "    }\n",
       "</style>\n",
       "<table border=\"1\" class=\"dataframe\">\n",
       "  <thead>\n",
       "    <tr style=\"text-align: right;\">\n",
       "      <th></th>\n",
       "      <th>X1</th>\n",
       "      <th>X2</th>\n",
       "      <th>X3</th>\n",
       "      <th>X4</th>\n",
       "      <th>X5</th>\n",
       "      <th>X6</th>\n",
       "      <th>X7</th>\n",
       "      <th>X8</th>\n",
       "      <th>X9</th>\n",
       "      <th>X10</th>\n",
       "      <th>...</th>\n",
       "      <th>X169</th>\n",
       "      <th>X170</th>\n",
       "      <th>X171</th>\n",
       "      <th>X172</th>\n",
       "      <th>X173</th>\n",
       "      <th>X174</th>\n",
       "      <th>X175</th>\n",
       "      <th>X176</th>\n",
       "      <th>X177</th>\n",
       "      <th>X178</th>\n",
       "    </tr>\n",
       "  </thead>\n",
       "  <tbody>\n",
       "    <tr>\n",
       "      <th>count</th>\n",
       "      <td>7820.000000</td>\n",
       "      <td>7820.000000</td>\n",
       "      <td>7820.000000</td>\n",
       "      <td>7820.000000</td>\n",
       "      <td>7820.000000</td>\n",
       "      <td>7820.000000</td>\n",
       "      <td>7820.000000</td>\n",
       "      <td>7820.000000</td>\n",
       "      <td>7820.000000</td>\n",
       "      <td>7820.000000</td>\n",
       "      <td>...</td>\n",
       "      <td>7820.000000</td>\n",
       "      <td>7820.000000</td>\n",
       "      <td>7820.000000</td>\n",
       "      <td>7820.000000</td>\n",
       "      <td>7820.000000</td>\n",
       "      <td>7820.000000</td>\n",
       "      <td>7820.000000</td>\n",
       "      <td>7820.000000</td>\n",
       "      <td>7820.000000</td>\n",
       "      <td>7820.000000</td>\n",
       "    </tr>\n",
       "    <tr>\n",
       "      <th>mean</th>\n",
       "      <td>0.515765</td>\n",
       "      <td>0.536080</td>\n",
       "      <td>0.554697</td>\n",
       "      <td>0.566540</td>\n",
       "      <td>0.577878</td>\n",
       "      <td>0.598618</td>\n",
       "      <td>0.595898</td>\n",
       "      <td>0.576945</td>\n",
       "      <td>0.562119</td>\n",
       "      <td>0.550264</td>\n",
       "      <td>...</td>\n",
       "      <td>0.543234</td>\n",
       "      <td>0.532143</td>\n",
       "      <td>0.522298</td>\n",
       "      <td>0.473220</td>\n",
       "      <td>0.418796</td>\n",
       "      <td>0.373592</td>\n",
       "      <td>0.338038</td>\n",
       "      <td>0.344395</td>\n",
       "      <td>0.349233</td>\n",
       "      <td>0.361121</td>\n",
       "    </tr>\n",
       "    <tr>\n",
       "      <th>std</th>\n",
       "      <td>0.064028</td>\n",
       "      <td>0.059490</td>\n",
       "      <td>0.056489</td>\n",
       "      <td>0.054152</td>\n",
       "      <td>0.052809</td>\n",
       "      <td>0.053112</td>\n",
       "      <td>0.052039</td>\n",
       "      <td>0.050250</td>\n",
       "      <td>0.049499</td>\n",
       "      <td>0.049716</td>\n",
       "      <td>...</td>\n",
       "      <td>0.057204</td>\n",
       "      <td>0.058531</td>\n",
       "      <td>0.060124</td>\n",
       "      <td>0.058907</td>\n",
       "      <td>0.056088</td>\n",
       "      <td>0.053885</td>\n",
       "      <td>0.052274</td>\n",
       "      <td>0.048912</td>\n",
       "      <td>0.047216</td>\n",
       "      <td>0.046429</td>\n",
       "    </tr>\n",
       "    <tr>\n",
       "      <th>min</th>\n",
       "      <td>0.000000</td>\n",
       "      <td>0.000000</td>\n",
       "      <td>0.000000</td>\n",
       "      <td>0.000000</td>\n",
       "      <td>0.000000</td>\n",
       "      <td>0.000000</td>\n",
       "      <td>0.000000</td>\n",
       "      <td>0.000000</td>\n",
       "      <td>0.000000</td>\n",
       "      <td>0.000000</td>\n",
       "      <td>...</td>\n",
       "      <td>0.000000</td>\n",
       "      <td>0.000000</td>\n",
       "      <td>0.000000</td>\n",
       "      <td>0.000000</td>\n",
       "      <td>0.000000</td>\n",
       "      <td>0.000000</td>\n",
       "      <td>0.000000</td>\n",
       "      <td>0.000000</td>\n",
       "      <td>0.000000</td>\n",
       "      <td>0.000000</td>\n",
       "    </tr>\n",
       "    <tr>\n",
       "      <th>25%</th>\n",
       "      <td>0.501408</td>\n",
       "      <td>0.522597</td>\n",
       "      <td>0.541501</td>\n",
       "      <td>0.553658</td>\n",
       "      <td>0.565072</td>\n",
       "      <td>0.585569</td>\n",
       "      <td>0.583114</td>\n",
       "      <td>0.564484</td>\n",
       "      <td>0.549705</td>\n",
       "      <td>0.537672</td>\n",
       "      <td>...</td>\n",
       "      <td>0.530108</td>\n",
       "      <td>0.518801</td>\n",
       "      <td>0.509064</td>\n",
       "      <td>0.460077</td>\n",
       "      <td>0.405994</td>\n",
       "      <td>0.361496</td>\n",
       "      <td>0.326186</td>\n",
       "      <td>0.333440</td>\n",
       "      <td>0.338283</td>\n",
       "      <td>0.350570</td>\n",
       "    </tr>\n",
       "    <tr>\n",
       "      <th>50%</th>\n",
       "      <td>0.517202</td>\n",
       "      <td>0.537143</td>\n",
       "      <td>0.555417</td>\n",
       "      <td>0.566979</td>\n",
       "      <td>0.578144</td>\n",
       "      <td>0.598678</td>\n",
       "      <td>0.595746</td>\n",
       "      <td>0.576560</td>\n",
       "      <td>0.561677</td>\n",
       "      <td>0.549656</td>\n",
       "      <td>...</td>\n",
       "      <td>0.544269</td>\n",
       "      <td>0.533284</td>\n",
       "      <td>0.523476</td>\n",
       "      <td>0.474534</td>\n",
       "      <td>0.420205</td>\n",
       "      <td>0.375136</td>\n",
       "      <td>0.339463</td>\n",
       "      <td>0.345674</td>\n",
       "      <td>0.350644</td>\n",
       "      <td>0.362361</td>\n",
       "    </tr>\n",
       "    <tr>\n",
       "      <th>75%</th>\n",
       "      <td>0.532434</td>\n",
       "      <td>0.551138</td>\n",
       "      <td>0.568709</td>\n",
       "      <td>0.579418</td>\n",
       "      <td>0.590043</td>\n",
       "      <td>0.610799</td>\n",
       "      <td>0.607890</td>\n",
       "      <td>0.588327</td>\n",
       "      <td>0.573268</td>\n",
       "      <td>0.561376</td>\n",
       "      <td>...</td>\n",
       "      <td>0.557298</td>\n",
       "      <td>0.546817</td>\n",
       "      <td>0.537681</td>\n",
       "      <td>0.488487</td>\n",
       "      <td>0.433530</td>\n",
       "      <td>0.387821</td>\n",
       "      <td>0.351938</td>\n",
       "      <td>0.357628</td>\n",
       "      <td>0.362099</td>\n",
       "      <td>0.373707</td>\n",
       "    </tr>\n",
       "    <tr>\n",
       "      <th>max</th>\n",
       "      <td>1.000000</td>\n",
       "      <td>1.000000</td>\n",
       "      <td>1.000000</td>\n",
       "      <td>1.000000</td>\n",
       "      <td>1.000000</td>\n",
       "      <td>1.000000</td>\n",
       "      <td>1.000000</td>\n",
       "      <td>1.000000</td>\n",
       "      <td>1.000000</td>\n",
       "      <td>1.000000</td>\n",
       "      <td>...</td>\n",
       "      <td>1.000000</td>\n",
       "      <td>1.000000</td>\n",
       "      <td>1.000000</td>\n",
       "      <td>1.000000</td>\n",
       "      <td>1.000000</td>\n",
       "      <td>1.000000</td>\n",
       "      <td>1.000000</td>\n",
       "      <td>1.000000</td>\n",
       "      <td>1.000000</td>\n",
       "      <td>1.000000</td>\n",
       "    </tr>\n",
       "  </tbody>\n",
       "</table>\n",
       "<p>8 rows × 178 columns</p>\n",
       "</div>"
      ],
      "text/plain": [
       "                X1           X2           X3           X4           X5  \\\n",
       "count  7820.000000  7820.000000  7820.000000  7820.000000  7820.000000   \n",
       "mean      0.515765     0.536080     0.554697     0.566540     0.577878   \n",
       "std       0.064028     0.059490     0.056489     0.054152     0.052809   \n",
       "min       0.000000     0.000000     0.000000     0.000000     0.000000   \n",
       "25%       0.501408     0.522597     0.541501     0.553658     0.565072   \n",
       "50%       0.517202     0.537143     0.555417     0.566979     0.578144   \n",
       "75%       0.532434     0.551138     0.568709     0.579418     0.590043   \n",
       "max       1.000000     1.000000     1.000000     1.000000     1.000000   \n",
       "\n",
       "                X6           X7           X8           X9          X10  ...  \\\n",
       "count  7820.000000  7820.000000  7820.000000  7820.000000  7820.000000  ...   \n",
       "mean      0.598618     0.595898     0.576945     0.562119     0.550264  ...   \n",
       "std       0.053112     0.052039     0.050250     0.049499     0.049716  ...   \n",
       "min       0.000000     0.000000     0.000000     0.000000     0.000000  ...   \n",
       "25%       0.585569     0.583114     0.564484     0.549705     0.537672  ...   \n",
       "50%       0.598678     0.595746     0.576560     0.561677     0.549656  ...   \n",
       "75%       0.610799     0.607890     0.588327     0.573268     0.561376  ...   \n",
       "max       1.000000     1.000000     1.000000     1.000000     1.000000  ...   \n",
       "\n",
       "              X169         X170         X171         X172         X173  \\\n",
       "count  7820.000000  7820.000000  7820.000000  7820.000000  7820.000000   \n",
       "mean      0.543234     0.532143     0.522298     0.473220     0.418796   \n",
       "std       0.057204     0.058531     0.060124     0.058907     0.056088   \n",
       "min       0.000000     0.000000     0.000000     0.000000     0.000000   \n",
       "25%       0.530108     0.518801     0.509064     0.460077     0.405994   \n",
       "50%       0.544269     0.533284     0.523476     0.474534     0.420205   \n",
       "75%       0.557298     0.546817     0.537681     0.488487     0.433530   \n",
       "max       1.000000     1.000000     1.000000     1.000000     1.000000   \n",
       "\n",
       "              X174         X175         X176         X177         X178  \n",
       "count  7820.000000  7820.000000  7820.000000  7820.000000  7820.000000  \n",
       "mean      0.373592     0.338038     0.344395     0.349233     0.361121  \n",
       "std       0.053885     0.052274     0.048912     0.047216     0.046429  \n",
       "min       0.000000     0.000000     0.000000     0.000000     0.000000  \n",
       "25%       0.361496     0.326186     0.333440     0.338283     0.350570  \n",
       "50%       0.375136     0.339463     0.345674     0.350644     0.362361  \n",
       "75%       0.387821     0.351938     0.357628     0.362099     0.373707  \n",
       "max       1.000000     1.000000     1.000000     1.000000     1.000000  \n",
       "\n",
       "[8 rows x 178 columns]"
      ]
     },
     "execution_count": 79,
     "metadata": {},
     "output_type": "execute_result"
    }
   ],
   "source": [
    "scaler = MinMaxScaler().fit(X_train)\n",
    "X_train[input_cols] = scaler.transform(X_train[input_cols])\n",
    "X_val[input_cols]  = scaler.transform(X_val[input_cols] )\n",
    "X_test[input_cols]  = scaler.transform(X_test[input_cols])\n",
    "\n",
    "X_train.describe()"
   ]
  },
  {
   "cell_type": "markdown",
   "id": "b6ab29a7",
   "metadata": {},
   "source": [
    "## Modeling"
   ]
  },
  {
   "cell_type": "code",
   "execution_count": 80,
   "id": "8cea3849",
   "metadata": {},
   "outputs": [],
   "source": [
    "def predict_and_plot(preds, targets, name=''):\n",
    "    \n",
    "    accuracy = accuracy_score(targets, preds)\n",
    "    print(\"{} Accuracy: {:.2f}%\".format(name,accuracy * 100))\n",
    "    \n",
    "    cf = confusion_matrix(targets, preds, normalize='true')\n",
    "    plt.figure()\n",
    "    sns.heatmap(cf, annot=True)\n",
    "    plt.xlabel('Prediction')\n",
    "    plt.ylabel('Target')\n",
    "    plt.title('{} Confusion Matrix'.format(name));\n",
    "    \n",
    "    return preds\n",
    "\n",
    "def check_model(model):\n",
    "    # make prediction\n",
    "    y_train_preds = model.predict(X_train)\n",
    "    y_val_preds = model.predict(X_val)\n",
    "    \n",
    "    # Checkinng accuracy and confusion matrix\n",
    "    predict_and_plot(y_train_preds, y_train,\"Training\")\n",
    "    predict_and_plot(y_val_preds, y_val,\"Validation\")"
   ]
  },
  {
   "cell_type": "code",
   "execution_count": 127,
   "id": "01da8e16",
   "metadata": {},
   "outputs": [
    {
     "name": "stdout",
     "output_type": "stream",
     "text": [
      "Training Accuracy: 96.79%\n",
      "Validation Accuracy: 96.70%\n"
     ]
    },
    {
     "data": {
      "image/png": "[encoded data removed]",
      "text/plain": [
       "<Figure size 720x432 with 2 Axes>"
      ]
     },
     "metadata": {
      "needs_background": "light"
     },
     "output_type": "display_data"
    },
    {
     "data": {
      "image/png": "[encoded data removed]",
      "text/plain": [
       "<Figure size 720x432 with 2 Axes>"
      ]
     },
     "metadata": {
      "needs_background": "light"
     },
     "output_type": "display_data"
    }
   ],
   "source": [
    "from sklearn.ensemble import RandomForestClassifier\n",
    "\n",
    "# training the model\n",
    "model = RandomForestClassifier(n_jobs=-1, random_state=42,\n",
    "                          max_depth=6,max_leaf_nodes = 20,max_features =\"log2\")\n",
    "model.fit(X_train,y_train)\n",
    "\n",
    "check_model(model)"
   ]
  },
  {
   "cell_type": "code",
   "execution_count": 126,
   "id": "7d226b7a",
   "metadata": {},
   "outputs": [
    {
     "name": "stdout",
     "output_type": "stream",
     "text": [
      "param1: gini || Param 2: log2 || Training score: 96.79% || Validation score: 96.70% \n"
     ]
    }
   ],
   "source": [
    "# Checking hyperparameters\n",
    "\n",
    "p = ['gini']\n",
    "q = ['log2']\n",
    "\n",
    "for i in p:\n",
    "    for j in q:\n",
    "        model = RandomForestClassifier(n_jobs=-1, random_state=42,\n",
    "                          max_depth=6,max_leaf_nodes = 20, criterion = i, max_features =\"log2\")\n",
    "        model.fit(X_train,y_train)\n",
    "        # make prediction\n",
    "        y_train_preds = model.predict(X_train)\n",
    "        y_val_preds = model.predict(X_val)\n",
    "        print('param1: {} || Param 2: {} || Training score: {:.2f}% || Validation score: {:.2f}% '.format(i,j, accuracy_score(y_train, y_train_preds)*100,accuracy_score(y_val, y_val_preds)*100))\n",
    "    "
   ]
  },
  {
   "cell_type": "code",
   "execution_count": null,
   "id": "32db163d",
   "metadata": {},
   "outputs": [],
   "source": []
  },
  {
   "cell_type": "code",
   "execution_count": null,
   "id": "1abcf4bc",
   "metadata": {},
   "outputs": [],
   "source": []
  }
 ],
 "metadata": {
  "kernelspec": {
   "display_name": "Python 3 (ipykernel)",
   "language": "python",
   "name": "python3"
  },
  "language_info": {
   "codemirror_mode": {
    "name": "ipython",
    "version": 3
   },
   "file_extension": ".py",
   "mimetype": "text/x-python",
   "name": "python",
   "nbconvert_exporter": "python",
   "pygments_lexer": "ipython3",
   "version": "3.9.7"
  }
 },
 "nbformat": 4,
 "nbformat_minor": 5
}
